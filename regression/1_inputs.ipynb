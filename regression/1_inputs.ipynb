{
 "cells": [
  {
   "cell_type": "markdown",
   "metadata": {},
   "source": [
    "**This notebook creates the following input for the PySWMM simulations:**\n",
    "- geometric parameters: area (A), length (L), width (W), pervious fraction (fV), slope (S), previous area (A2), impervious area (A1)\n",
    "- soil parameters (for Modified Green Ampt infiltration model)\n",
    "- precipitation scenarios (P)\n",
    "- anctecedent soil moisture conditions (ASM)"
   ]
  },
  {
   "cell_type": "code",
   "execution_count": 2,
   "metadata": {},
   "outputs": [],
   "source": [
    "import matplotlib.pyplot as plt\n",
    "import seaborn as sns\n",
    "import itertools as it\n",
    "import numpy as np;\n",
    "import pandas as pd;\n",
    "import os;\n",
    "import matplotlib.pyplot as plt;\n",
    "import itertools\n",
    "import pandas as pd\n",
    "import numpy as np\n",
    "import pickle\n",
    "from itertools import combinations"
   ]
  },
  {
   "cell_type": "code",
   "execution_count": 21,
   "metadata": {},
   "outputs": [],
   "source": [
    "# A, L, fV: random parameters from normal distribution\n",
    "# S: 1-4%\n",
    "# W: A/L\n",
    "\n",
    "params={'A':np.random.uniform(1,247,100)/100.,               # A : 0 to 2.47105 acre (1 hectare)\n",
    "        'L':np.random.uniform(1,500,100),                      # L: 0 to 500 ft (per SWMM manual)\n",
    "        'fV':np.random.uniform(1,100,100)/100.}               # fV: 0 to 100%\n",
    "\n",
    "#slope from 1 to 4 %\n",
    "s1=pd.DataFrame(params)\n",
    "s2=pd.DataFrame(params)\n",
    "s3=pd.DataFrame(params)\n",
    "s4=pd.DataFrame(params)\n",
    "\n",
    "k=0\n",
    "for s in [s1,s2,s3,s4]:\n",
    "    k=k+1\n",
    "    s['S']=k\n",
    "\n",
    "#  concat all slope dfs, compute W, L:W, A1 and A2\n",
    "params = pd.concat([s1,s2,s3,s4])\n",
    "params['W']=(params['A']*43560)/params['L'] #W in ft\n",
    "params_df['W2']=(params['A']*43560)/params['L'] #W2 = W\n",
    "params['L:W']=params['L']/params['W'] \n",
    "params['A2']=params['fV']*params['A'] # A2 = pervious area\n",
    "params['A1']=params['A']-params['A2'] # A1 = impervious area"
   ]
  },
  {
   "cell_type": "code",
   "execution_count": 3,
   "metadata": {},
   "outputs": [],
   "source": [
    "#send to params to pickle\n",
    "with open('params_2.pickle', 'wb') as handle:\n",
    "    pickle.dump(params, handle, protocol=pickle.HIGHEST_PROTOCOL)"
   ]
  },
  {
   "cell_type": "code",
   "execution_count": 28,
   "metadata": {},
   "outputs": [],
   "source": [
    "# soil dictionary (K in in/hr, H_i in in)\n",
    "\n",
    "soil ={'Soil Texture Class': {0: 'Sand',  1: 'Loamy Sand',  2: 'Sandy Loam',  3: 'Loam',  4: 'Silt Loam',5: 'Sandy Clay Loam',  6: 'Silty Clay Loam',  7: 'Sandy Clay',  8: 'Silty Clay',  9: 'Clay'},\n",
    " 'K': {0: 4.74,  1: 1.18,  2: 0.43,  3: 0.13,  4: 0.26,  5: 0.06,  6: 0.04,  7: 0.023,  8: 0.02,  9: 0.01},\n",
    " 'H_i': {0: 1.93,  1: 2.4,  2: 4.33,  3: 3.5,  4: 6.69,  5: 8.66,  6: 10.63,  7: 9.45,  8: 11.42,  9: 12.6},\n",
    " 'ϕ': {0: 0.437,  1: 0.437,  2: 0.453,  3: 0.463,  4: 0.501,  5: 0.398,  6: 0.471,  7: 0.43,  8: 0.479,  9: 0.475},\n",
    " 'FC': {0: 0.062,  1: 0.105,  2: 0.19,  3: 0.232,  4: 0.284,  5: 0.244,  6: 0.342,  7: 0.321,  8: 0.371,  9: 0.378},\n",
    " 'WP': {0: 0.024,  1: 0.047,  2: 0.085,  3: 0.116,  4: 0.135,  5: 0.136,  6: 0.21,  7: 0.221,  8: 0.251,  9: 0.265},\n",
    "'SAT': {0: 0.437,  1: 0.437,  2: 0.453,  3: 0.463,  4: 0.501,  5: 0.398,  6: 0.471,  7: 0.43,  8: 0.479,  9: 0.475}}"
   ]
  },
  {
   "cell_type": "code",
   "execution_count": 60,
   "metadata": {
    "scrolled": true
   },
   "outputs": [],
   "source": [
    "asm=['WP','FC','SAT']\n",
    "\n",
    "def soil_asm(ASM):\n",
    "    temp = soil\n",
    "    temp['IMD']=temp['ϕ'][1]-temp[ASM][1]\n",
    "    temp['Cond']=ASM\n",
    "    return temp\n",
    "\n",
    "soil2={}\n",
    "for i,a in enumerate(asm):\n",
    "    soil2[i]=soil_asm(a)\n",
    "    pd.DataFrame(soil2[i])\n",
    "WP=pd.DataFrame(soil2[0])\n",
    "FC=pd.DataFrame(soil2[1])\n",
    "SAT=pd.DataFrame(soil2[2])\n",
    "soil_df = pd.concat([WP,FC,SAT])"
   ]
  },
  {
   "cell_type": "code",
   "execution_count": 61,
   "metadata": {},
   "outputs": [],
   "source": [
    "with open('soil_df.pickle', 'wb') as handle:\n",
    "    pickle.dump(soil, handle, protocol=pickle.HIGHEST_PROTOCOL)"
   ]
  }
 ],
 "metadata": {
  "kernelspec": {
   "display_name": "Python 3",
   "language": "python",
   "name": "python3"
  },
  "language_info": {
   "codemirror_mode": {
    "name": "ipython",
    "version": 3
   },
   "file_extension": ".py",
   "mimetype": "text/x-python",
   "name": "python",
   "nbconvert_exporter": "python",
   "pygments_lexer": "ipython3",
   "version": "3.7.4"
  }
 },
 "nbformat": 4,
 "nbformat_minor": 2
}
