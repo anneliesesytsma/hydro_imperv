{
 "cells": [
  {
   "cell_type": "code",
   "execution_count": 1,
   "metadata": {},
   "outputs": [],
   "source": [
    "import matplotlib.pyplot as plt\n",
    "import seaborn as sns\n",
    "import itertools as it\n",
    "import numpy as np;\n",
    "import pandas as pd;\n",
    "import os;\n",
    "import matplotlib.pyplot as plt;\n",
    "import itertools\n",
    "import pandas as pd\n",
    "import numpy as np\n",
    "import pickle\n",
    "from itertools import combinations"
   ]
  },
  {
   "cell_type": "code",
   "execution_count": 2,
   "metadata": {},
   "outputs": [],
   "source": [
    "params={'A':np.random.uniform(1,247,100)/100.,               # A : 0 to 2.47105 acre (1 hectare)\n",
    "        'L':np.random.uniform(1,500,100),                      # L: 0 to 500 ft (per SWMM manual)\n",
    "        'fV':np.random.uniform(1,100,100)/100.}               # fV: 0 to 100%\n",
    "\n",
    "s1=pd.DataFrame(params)\n",
    "s2=pd.DataFrame(params)\n",
    "s3=pd.DataFrame(params)\n",
    "s4=pd.DataFrame(params)\n",
    "\n",
    "s1['S']=1\n",
    "s2['S']=2\n",
    "s3['S']=3\n",
    "s4['S']=4\n",
    "\n",
    "frames =[s1,s2,s3,s4]\n",
    "params = pd.concat(frames)\n",
    "\n",
    "params['W']=(params['A']*43560)/params['L']\n",
    "params['L:W']=params['L']/params['W']\n",
    "\n",
    "params['A2']=params['fV']*params['A'] \n",
    "params['A1']=params['A']-params['A2'] "
   ]
  },
  {
   "cell_type": "code",
   "execution_count": 3,
   "metadata": {},
   "outputs": [],
   "source": [
    "#send to pickle\n",
    "with open('params_2.pickle', 'wb') as handle:\n",
    "    pickle.dump(params, handle, protocol=pickle.HIGHEST_PROTOCOL)"
   ]
  },
  {
   "cell_type": "code",
   "execution_count": 4,
   "metadata": {},
   "outputs": [],
   "source": [
    "soil ={'Soil Texture Class': {0: 'Sand',  1: 'Loamy Sand',  2: 'Sandy Loam',  3: 'Loam',  4: 'Silt Loam',  5: 'Sandy Clay Loam',  6: 'Silty Clay Loam',  7: 'Sandy Clay',  8: 'Silty Clay',  9: 'Clay'},\n",
    " 'K': {0: 4.74,  1: 1.18,  2: 0.43,  3: 0.13,  4: 0.26,  5: 0.06,  6: 0.04,  7: 0.023,  8: 0.02,  9: 0.01},\n",
    " 'H_i': {0: 1.93,  1: 2.4,  2: 4.33,  3: 3.5,  4: 6.69,  5: 8.66,  6: 10.63,  7: 9.45,  8: 11.42,  9: 12.6},\n",
    " 'ϕ': {0: 0.437,  1: 0.437,  2: 0.453,  3: 0.463,  4: 0.501,  5: 0.398,  6: 0.471,  7: 0.43,  8: 0.479,  9: 0.475},\n",
    " 'FC': {0: 0.062,  1: 0.105,  2: 0.19,  3: 0.232,  4: 0.284,  5: 0.244,  6: 0.342,  7: 0.321,  8: 0.371,  9: 0.378},\n",
    " 'WP': {0: 0.024,  1: 0.047,  2: 0.085,  3: 0.116,  4: 0.135,  5: 0.136,  6: 0.21,  7: 0.221,  8: 0.251,  9: 0.265}}"
   ]
  },
  {
   "cell_type": "code",
   "execution_count": 6,
   "metadata": {
    "scrolled": true
   },
   "outputs": [],
   "source": [
    "soil_fc = pd.DataFrame(soil)\n",
    "soil_fc['IMD']=soil_fc['ϕ']-soil_fc['FC']\n",
    "soil_fc['Cond']='FC'\n",
    "\n",
    "soil_wp= pd.DataFrame(soil)\n",
    "soil_wp['IMD']=soil_wp['ϕ']-soil_wp['WP']\n",
    "soil_wp['Cond']='WP'\n",
    "\n",
    "soil_sat= pd.DataFrame(soil)\n",
    "soil_sat['IMD']=0\n",
    "soil_sat['Cond']='SAT'\n",
    "\n",
    "frames =[soil_sat,soil_wp,soil_fc]\n",
    "soil = pd.concat(frames)"
   ]
  },
  {
   "cell_type": "code",
   "execution_count": 21,
   "metadata": {},
   "outputs": [],
   "source": [
    "with open('soil_fc.pickle', 'wb') as handle:\n",
    "    pickle.dump(soil_fc, handle, protocol=pickle.HIGHEST_PROTOCOL)\n",
    "with open('soil_wp.pickle', 'wb') as handle:\n",
    "    pickle.dump(soil_wp, handle, protocol=pickle.HIGHEST_PROTOCOL)\n",
    "with open('soil_sat.pickle', 'wb') as handle:\n",
    "    pickle.dump(soil_sat, handle, protocol=pickle.HIGHEST_PROTOCOL)\n",
    "with open('soil.pickle', 'wb') as handle:\n",
    "    pickle.dump(soil, handle, protocol=pickle.HIGHEST_PROTOCOL)"
   ]
  }
 ],
 "metadata": {
  "kernelspec": {
   "display_name": "Python 3",
   "language": "python",
   "name": "python3"
  },
  "language_info": {
   "codemirror_mode": {
    "name": "ipython",
    "version": 3
   },
   "file_extension": ".py",
   "mimetype": "text/x-python",
   "name": "python",
   "nbconvert_exporter": "python",
   "pygments_lexer": "ipython3",
   "version": "3.7.4"
  }
 },
 "nbformat": 4,
 "nbformat_minor": 2
}
